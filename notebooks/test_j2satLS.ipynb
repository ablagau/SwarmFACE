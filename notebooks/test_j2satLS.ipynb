{
 "cells": [
  {
   "cell_type": "code",
   "execution_count": null,
   "id": "eaebb2ee",
   "metadata": {},
   "outputs": [],
   "source": [
    "# Test the LS dual-satellite FAC estimation with Swarm\n",
    "# The full calling syntax:\n",
    "# \n",
    "# j_df, input_df, param = j2satLS(dtime_beg, dtime_end, sats, tshift=None, \n",
    "#                                 dt_along = 5, use_filter=True, er_db=0.5, \n",
    "#                                 angTHR = 30., errTHR=0.1, saveconf=False,\n",
    "#                                 savedata=True, saveplot=True)\n",
    "# \n",
    "# MANDATORY PARAMETERS: \n",
    "# dtime_beg, dtime_end    : specifies the interval of analysis\n",
    "# sats =['A','C']     ; satellite pair. Using sat. B is also possible \n",
    "#                       when Swarm forms a close configuration \n",
    "# \n",
    "# OPTIONAL PARAMETERS:\n",
    "# tshift      : sat time-shift imposed by the user. Calculated by the \n",
    "#               program if not provided \n",
    "# dt_along         : along track separation in sec.\n",
    "# use_filter       : boolean flags to filter data\n",
    "# er_db      : amplitude of magnetic noise (nT)\n",
    "# angTHR     : accepted angle threshold to recover FAC from normal current\n",
    "# errTHR     ; accepted error for normal current density \n",
    "# saveconf   : boolean flag to add the quad's parameters in the results\n",
    "# savedata, saveplot  : boolean flags to save/plot the data\n",
    "# \n",
    "# OUTPUT:\n",
    "# j_df, input_df    : DataFrames with results and input data \n",
    "# param             : dictionary of parameters used in the computation\n",
    "\n",
    "from SwarmFACE import *\n",
    "\n",
    "dtime_beg = '2014-04-22T05:41:00'\n",
    "dtime_end = '2014-04-22T05:50:00'\n",
    "sats = ['A','C']\n",
    "# tshift = [10, 0]\n",
    "\n",
    "# dtime_beg = '2014-05-04T16:48:00'\n",
    "# dtime_end = '2014-05-04T16:54:00'\n",
    "# sats = ['B','A']\n",
    "# # tshift = [15, 0]\n",
    "\n",
    "j_df, input_df, param = j2satLS(dtime_beg, dtime_end, sats)"
   ]
  },
  {
   "cell_type": "code",
   "execution_count": null,
   "id": "d0dd6c8e",
   "metadata": {},
   "outputs": [],
   "source": [
    "j_df"
   ]
  },
  {
   "cell_type": "code",
   "execution_count": null,
   "id": "a187b96a",
   "metadata": {},
   "outputs": [],
   "source": [
    "input_df"
   ]
  },
  {
   "cell_type": "code",
   "execution_count": null,
   "id": "91e9ccf4",
   "metadata": {},
   "outputs": [],
   "source": [
    "param"
   ]
  }
 ],
 "metadata": {
  "kernelspec": {
   "display_name": "Python 3 (ipykernel)",
   "language": "python",
   "name": "python3"
  },
  "language_info": {
   "codemirror_mode": {
    "name": "ipython",
    "version": 3
   },
   "file_extension": ".py",
   "mimetype": "text/x-python",
   "name": "python",
   "nbconvert_exporter": "python",
   "pygments_lexer": "ipython3",
   "version": "3.7.11"
  }
 },
 "nbformat": 4,
 "nbformat_minor": 5
}
