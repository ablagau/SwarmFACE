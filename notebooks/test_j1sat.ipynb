{
 "cells": [
  {
   "cell_type": "code",
   "execution_count": null,
   "id": "6e7baeb4",
   "metadata": {},
   "outputs": [],
   "source": [
    "# Test the single-satellite FAC estimation with Swarm\n",
    "# The full calling syntax:\n",
    "# \n",
    "# j_df, input_df, param = j1sat(dtime_beg, dtime_end, sat, res='LR', \n",
    "#                               use_filter=True, alpha=None, N3d=None, \n",
    "#                               N2d=None, tincl=None, er_db=0.5, \n",
    "#                               angTHR=30.,savedata=True, saveplot=True)\n",
    "# \n",
    "# MANDATORY PARAMETERS: \n",
    "# dtime_beg, dtime_end  : specifies the interval of analysis\n",
    "# sats                  : ['A'], ['B'], or ['C'] satellite name\n",
    "# OPTIONAL PARAMETERS:\n",
    "# res           : 'LR' or 'HR' for low or high resolution data\n",
    "# use_filter    : boolean flags to filter data\n",
    "# alpha, N3d, N2d    : possible ways to specify FAC orientation (see \n",
    "#                      the documentation). \n",
    "# tincl       : time interval when FAC inclination is to be considered\n",
    "# er_db       : amplitude of magnetic noise (nT)\n",
    "# angTHR      : accepted angle threshold to recover FAC from IRC\n",
    "# savedata, saveplot  : boolean flags to save/plot the data\n",
    "# \n",
    "# OUTPUT:\n",
    "# j_df, input_df    : DataFrames with results and input data \n",
    "# param             : dictionary of parameters used in the computation\n",
    "\n",
    "from SwarmFACE import *\n",
    "\n",
    "dtime_beg = '2014-05-04T17:48:00'\n",
    "dtime_end = '2014-05-04T17:54:00'\n",
    "\n",
    "sat = ['C']\n",
    "\n",
    "res = 'LR'               \n",
    "N3d=[0.2276, 0.6924, 0.6847]\n",
    "tincl = ['2014-05-04 17:49:50', '2014-05-04 17:52:44']\n",
    "\n",
    "j_df, input_df, param = j1sat(dtime_beg, dtime_end, sat, res=res,\n",
    "                              N3d=N3d, tincl=tincl)"
   ]
  },
  {
   "cell_type": "code",
   "execution_count": null,
   "id": "d0dd6c8e",
   "metadata": {},
   "outputs": [],
   "source": [
    "input_df"
   ]
  },
  {
   "cell_type": "code",
   "execution_count": null,
   "id": "dce22fd0",
   "metadata": {},
   "outputs": [],
   "source": [
    "j_df"
   ]
  },
  {
   "cell_type": "code",
   "execution_count": null,
   "id": "ddf5a162",
   "metadata": {},
   "outputs": [],
   "source": [
    "param"
   ]
  },
  {
   "cell_type": "code",
   "execution_count": null,
   "id": "39b297c0",
   "metadata": {},
   "outputs": [],
   "source": []
  }
 ],
 "metadata": {
  "kernelspec": {
   "display_name": "Python 3 (ipykernel)",
   "language": "python",
   "name": "python3"
  },
  "language_info": {
   "codemirror_mode": {
    "name": "ipython",
    "version": 3
   },
   "file_extension": ".py",
   "mimetype": "text/x-python",
   "name": "python",
   "nbconvert_exporter": "python",
   "pygments_lexer": "ipython3",
   "version": "3.7.11"
  }
 },
 "nbformat": 4,
 "nbformat_minor": 5
}
