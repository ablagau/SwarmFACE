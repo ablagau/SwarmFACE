{
 "cells": [
  {
   "cell_type": "code",
   "execution_count": null,
   "id": "3c0204f4",
   "metadata": {},
   "outputs": [],
   "source": [
    "# Test the FAC quality index estimation with Swarm\n",
    "# The full calling syntax:\n",
    "# \n",
    "# input_df, RBdBAng_df, fac_df, qimva_df, qicc_df, param =\\\n",
    "#      fac_qi(dtime_beg, dtime_end, swB=False, jTHR=0.05, saveplot=False)\n",
    "# \n",
    "# MANDATORY PARAMETERS: \n",
    "# dtime_beg, dtime_end   : specifies the interval of interest. The actual \n",
    "#                          analysis interval is larger: i.e. for each \n",
    "#                          satellite it is the full consecutive orbits that \n",
    "#                          completely cover the original time interval \n",
    "#                          analysis interval is larger: for each satellite \n",
    "\n",
    "# OPTIONAL PARAMETERS:\n",
    "# swB       : to provide MVA results also for SwarmB (implicit value False)\n",
    "# jTHR      : minimum FAC density considered for auroral oval identification\n",
    "# saveplot  : boolean flags to plot the data (implicit value False)\n",
    "\n",
    "# OUTPUT:\n",
    "# input_df     : lists of DataFrames of shape [nsc,nrq] with nsc= nr. of sats\n",
    "#                and nrq= nr. of quarter orbits in the analysis interval\n",
    "#                Contains the input data\n",
    "# RBdBAng_df   : list of DataFrames of shape [nsc,nrq]. Contains sat. position\n",
    "#                and magnetic vector in GEO frame, magnetic perturbation in\n",
    "#                GEO and MVA frames, and angle between the current sheet normal\n",
    "#                and the sat. velocity in the tangential plane\n",
    "# fac_df       : DataFrame of shape [nsc,nrq] with FAC density data \n",
    "# qimva_df     : list of nsc DataFrames (one per sat) with MVA results\n",
    "# qicc_df      : DataFrame with results of correlation analysis\n",
    "# param        : dictionary of parameters used in the computation\n",
    "\n",
    "from SwarmFACE import *\n",
    "\n",
    "dtime_beg = '2014-05-04T16:47:00'\n",
    "dtime_end = '2014-05-04T16:56:00'\n",
    "\n",
    "input_df, RBdBAng_df, fac_df, qimva_df, qicc_df, param =\\\n",
    "                   fac_qi(dtime_beg, dtime_end, swB=True, saveplot=True)"
   ]
  },
  {
   "cell_type": "code",
   "execution_count": null,
   "id": "8f9c52f6",
   "metadata": {},
   "outputs": [],
   "source": [
    "sc = 0         # satellite\n",
    "qorb = 0       # quarter orbit number\n",
    "qimva_df[sc]   # plot the MVA results for sc"
   ]
  },
  {
   "cell_type": "code",
   "execution_count": null,
   "id": "6209740a",
   "metadata": {},
   "outputs": [],
   "source": [
    "qicc_df   # print the results of correlation analysis "
   ]
  },
  {
   "cell_type": "code",
   "execution_count": null,
   "id": "3858a457",
   "metadata": {
    "scrolled": true
   },
   "outputs": [],
   "source": [
    "input_df[sc][qorb]    # print magnetic field time series for sc and qorb"
   ]
  },
  {
   "cell_type": "code",
   "execution_count": null,
   "id": "383ef1d0",
   "metadata": {},
   "outputs": [],
   "source": [
    "RBdBAng_df[sc][qorb]  # prin R, B, dB, and ANG time series for sc and qorb"
   ]
  },
  {
   "cell_type": "code",
   "execution_count": null,
   "id": "41fc1ea8",
   "metadata": {},
   "outputs": [],
   "source": [
    "param        # parameters used in the analysis"
   ]
  },
  {
   "cell_type": "code",
   "execution_count": null,
   "id": "f33d98b4",
   "metadata": {},
   "outputs": [],
   "source": []
  }
 ],
 "metadata": {
  "kernelspec": {
   "display_name": "Python 3 (ipykernel)",
   "language": "python",
   "name": "python3"
  },
  "language_info": {
   "codemirror_mode": {
    "name": "ipython",
    "version": 3
   },
   "file_extension": ".py",
   "mimetype": "text/x-python",
   "name": "python",
   "nbconvert_exporter": "python",
   "pygments_lexer": "ipython3",
   "version": "3.7.11"
  }
 },
 "nbformat": 4,
 "nbformat_minor": 5
}
