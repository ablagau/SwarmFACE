{
 "cells": [
  {
   "cell_type": "code",
   "execution_count": null,
   "id": "6d0bf1ed",
   "metadata": {},
   "outputs": [],
   "source": [
    "# Test the interactive MVA with Swarm\n",
    "# \n",
    "# FIRST CELL \n",
    "# Specifies the input parameters and prepares the necessary data\n",
    "# \n",
    "# j_df, input_df, param, span_sel, span = \\\n",
    "#             get_data_mva1sat(dtime_beg, dtime_end, sat, use_filter=True)\n",
    "# \n",
    "# MANDATORY PARAMETERS: \n",
    "# dtime_beg, dtime_end      : specifies the interval of analysis\n",
    "# sat                       : the satellite\n",
    "# OPTIONAL PARAMETER:\n",
    "# use_filter       : boolean flags to filter data\n",
    "# OUTPUT:\n",
    "# j_df, input_df    : DataFrames with FAC density and input data \n",
    "# param             : dictionary of parameters used in the computation\n",
    "# span_sel          ; holds the MVA interval (initially [dtime_beg, dtime_end])\n",
    "# span              ; reference to SpanSelector to avoid being garbage collected\n",
    "# An interactive plot will appear. The user can select with the mouse another \n",
    "# analysis interval. \n",
    "# \n",
    "# SECOND CELL\n",
    "# Updates the analysis interval and performs MVA\n",
    "# \n",
    "# span_sel                    :needed to update the analysis interval\n",
    "# jcorr_df, dBmva_df, mva_df, param = perform_mva1sat(j_df, input_df, \n",
    "#                                                     param, span_sel)\n",
    "#  \n",
    "# INPUT PARAMETERS: output from get_data_mva1sat\n",
    "# OUTPUT:\n",
    "# jcorr_df    : FAC density corrected current sheet inclination\n",
    "# dBmva_df    : magnetic perturbations in MVA frame \n",
    "# mva_df      : result from the MVA analysis\n",
    "# param       : dictionary of parameters used in the analysis\n",
    "\n",
    "%matplotlib notebook\n",
    "\n",
    "from SwarmFACE.mva1sat import *\n",
    "\n",
    "dtime_beg = '2015-03-17T08:51:54'\n",
    "dtime_end = '2015-03-17T08:57:11'\n",
    "sat = ['C']\n",
    "\n",
    "j_df, input_df, param, span_sel, span = \\\n",
    "            get_data_mva1sat(dtime_beg, dtime_end, sat)"
   ]
  },
  {
   "cell_type": "code",
   "execution_count": null,
   "id": "4ce5d4da",
   "metadata": {
    "scrolled": false
   },
   "outputs": [],
   "source": [
    "span_sel    # needed to update the analysis interval\n",
    "\n",
    "jcorr_df, dBmva_df, mva_df, param = perform_mva1sat(j_df, input_df, \n",
    "                                                    param, span_sel)"
   ]
  },
  {
   "cell_type": "code",
   "execution_count": null,
   "id": "4ff3e72a",
   "metadata": {},
   "outputs": [],
   "source": [
    "mva_df"
   ]
  },
  {
   "cell_type": "code",
   "execution_count": null,
   "id": "954ddf65",
   "metadata": {},
   "outputs": [],
   "source": []
  }
 ],
 "metadata": {
  "kernelspec": {
   "display_name": "Python 3 (ipykernel)",
   "language": "python",
   "name": "python3"
  },
  "language_info": {
   "codemirror_mode": {
    "name": "ipython",
    "version": 3
   },
   "file_extension": ".py",
   "mimetype": "text/x-python",
   "name": "python",
   "nbconvert_exporter": "python",
   "pygments_lexer": "ipython3",
   "version": "3.7.11"
  }
 },
 "nbformat": 4,
 "nbformat_minor": 5
}
