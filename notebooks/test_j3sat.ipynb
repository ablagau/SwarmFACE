{
 "cells": [
  {
   "cell_type": "code",
   "execution_count": null,
   "id": "99d066c3",
   "metadata": {},
   "outputs": [],
   "source": [
    "# Test the three-satellite FAC estimation with Swarm\n",
    "# The full calling syntax:\n",
    "# \n",
    "# j_df, input_df, param = j3sat(dtime_beg, dtime_end, tshift=[0,0,0], \n",
    "#                               use_filter=True, er_db=0.5, angTHR = 30.,\n",
    "#                               savedata=True, saveplot=True)\n",
    "# \n",
    "# MANDATORY PARAMETERS: \n",
    "# dtime_beg, dtime_end    : specifies the interval of analysis\n",
    "# \n",
    "# OPTIONAL PARAMETERS:\n",
    "# tshift           : optional time-shift in sec. for satellites 'A','B',\n",
    "#                    and 'C' (in this order) \n",
    "# use_filter       : boolean flags to filter data\n",
    "# er_db      : amplitude of magnetic noise (nT)\n",
    "# angTHR     : accepted angle threshold to recover FAC from normal current\n",
    "# savedata, saveplot  : boolean flags to save/plot the data\n",
    "# \n",
    "# OUTPUT:\n",
    "# j_df, input_df    : DataFrames with results and input data \n",
    "# param             : dictionary of parameters used in the computation\n",
    "\n",
    "from SwarmFACE import *\n",
    "\n",
    "dtime_beg = '2014-05-04T16:47:00'\n",
    "dtime_end = '2014-05-04T16:56:00'\n",
    "\n",
    "tshift = [0, 10, 0]\n",
    "\n",
    "j_df, input_df, param = j3sat(dtime_beg, dtime_end, tshift=tshift)"
   ]
  },
  {
   "cell_type": "code",
   "execution_count": null,
   "id": "d0dd6c8e",
   "metadata": {},
   "outputs": [],
   "source": [
    "j_df"
   ]
  },
  {
   "cell_type": "code",
   "execution_count": null,
   "id": "99c450a1",
   "metadata": {},
   "outputs": [],
   "source": [
    "input_df"
   ]
  },
  {
   "cell_type": "code",
   "execution_count": null,
   "id": "5028b602",
   "metadata": {},
   "outputs": [],
   "source": [
    "param"
   ]
  }
 ],
 "metadata": {
  "kernelspec": {
   "display_name": "Python 3 (ipykernel)",
   "language": "python",
   "name": "python3"
  },
  "language_info": {
   "codemirror_mode": {
    "name": "ipython",
    "version": 3
   },
   "file_extension": ".py",
   "mimetype": "text/x-python",
   "name": "python",
   "nbconvert_exporter": "python",
   "pygments_lexer": "ipython3",
   "version": "3.7.11"
  }
 },
 "nbformat": 4,
 "nbformat_minor": 5
}
