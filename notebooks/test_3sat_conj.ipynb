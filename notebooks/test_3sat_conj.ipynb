{
 "cells": [
  {
   "cell_type": "code",
   "execution_count": null,
   "id": "0022328a",
   "metadata": {
    "scrolled": true
   },
   "outputs": [],
   "source": [
    "# Test the program that finds Swarm conjunctions\n",
    "# The full calling syntax:\n",
    "# \n",
    "# conj_df, param = find_3sat_conj(dtime_beg, dtime_end, delT = 120, delN=300,\n",
    "#                                 delE=1200, jTHR=0.05, saveplot=False)\n",
    "#  \n",
    "# MANDATORY PARAMETERS: \n",
    "# dtime_beg, dtime_end   : specifies the interval of interest. The actual \n",
    "#                          analysis interval is larger: i.e. for each \n",
    "#                          satellite it is the full consecutive orbits that \n",
    "#                          completely cover the original time interval \n",
    "#\n",
    "# OPTIONAL PARAMETERS:\n",
    "# delT, delN, delE  : parameters that defines Swarm conjunctions in terms \n",
    "#                     of swA, swB, swC auroral oval (AO) central locations \n",
    "#                     and time of AO encounter:\n",
    "#                     delT : accepted time window (in sec)\n",
    "#                     delN : accepted distance along magnetic North (in km)\n",
    "#                     delE : accepted distance along magnetic East (in km)\n",
    "# jTHR        ; minimum FAC density considered for AO identification\n",
    "# saveplot    : boolean flags to plot the data (implicit value False)\n",
    "#               when saveplot=True, the magnetic field data is downloaded for\n",
    "#               each conjunction\n",
    "# \n",
    "# OUTPUT:\n",
    "# conj_df      : DataFrames with the identified conjunctions\n",
    "# param        : dictionary of parameters used in the computation\n",
    "\n",
    "from SwarmFACE import *\n",
    "\n",
    "dtime_beg = '2014-05-04T12:00:00'\n",
    "dtime_end = '2014-05-04T20:00:00'\n",
    "\n",
    "conj_df, param =  find_3sat_conj(dtime_beg, dtime_end)"
   ]
  },
  {
   "cell_type": "code",
   "execution_count": null,
   "id": "d22de4bb",
   "metadata": {},
   "outputs": [],
   "source": [
    "conj_df"
   ]
  },
  {
   "cell_type": "code",
   "execution_count": null,
   "id": "00ffa676",
   "metadata": {},
   "outputs": [],
   "source": [
    "param"
   ]
  },
  {
   "cell_type": "code",
   "execution_count": null,
   "id": "ea77a4fb",
   "metadata": {},
   "outputs": [],
   "source": []
  }
 ],
 "metadata": {
  "kernelspec": {
   "display_name": "Python 3 (ipykernel)",
   "language": "python",
   "name": "python3"
  },
  "language_info": {
   "codemirror_mode": {
    "name": "ipython",
    "version": 3
   },
   "file_extension": ".py",
   "mimetype": "text/x-python",
   "name": "python",
   "nbconvert_exporter": "python",
   "pygments_lexer": "ipython3",
   "version": "3.7.11"
  }
 },
 "nbformat": 4,
 "nbformat_minor": 5
}
